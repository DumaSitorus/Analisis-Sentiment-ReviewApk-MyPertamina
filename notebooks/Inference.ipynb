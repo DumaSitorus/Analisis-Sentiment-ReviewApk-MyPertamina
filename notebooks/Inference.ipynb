{
 "cells": [
  {
   "cell_type": "markdown",
   "id": "238dc5b9-511c-4949-9543-702cb5501405",
   "metadata": {},
   "source": [
    "# **Inference**\n",
    "Kode berikut digunakan untuk menggunakan model yang sudah di latih untuk memprediksi hasil dari data baru yang belum pernah dilihat sebelumnya"
   ]
  },
  {
   "cell_type": "markdown",
   "id": "e4ad9e53-db38-4900-b2f6-46e5884658f5",
   "metadata": {},
   "source": [
    "## **Import Library**"
   ]
  },
  {
   "cell_type": "code",
   "execution_count": 19,
   "id": "7269012e-fd58-4adc-a070-9a05b37f4ab8",
   "metadata": {},
   "outputs": [],
   "source": [
    "\n",
    "import pickle\n",
    "import numpy as np\n",
    "from tensorflow.keras.models import load_model\n",
    "from tensorflow.keras.preprocessing.sequence import pad_sequences"
   ]
  },
  {
   "cell_type": "markdown",
   "id": "fdca389d-6d53-4642-8370-db0e5f0ad054",
   "metadata": {},
   "source": [
    "## **Load Keras model, svm model, tokenizer, dan label, TF-IDF vectorizer**"
   ]
  },
  {
   "cell_type": "code",
   "execution_count": 20,
   "id": "1ba5e223-20ea-4322-a4c9-d1b41cfba210",
   "metadata": {},
   "outputs": [
    {
     "name": "stderr",
     "output_type": "stream",
     "text": [
      "WARNING:absl:Compiled the loaded model, but the compiled metrics have yet to be built. `model.compile_metrics` will be empty until you train or evaluate the model.\n",
      "WARNING:absl:Compiled the loaded model, but the compiled metrics have yet to be built. `model.compile_metrics` will be empty until you train or evaluate the model.\n"
     ]
    }
   ],
   "source": [
    "model_biLSTM = load_model('../models/model_biLSTM.h5')\n",
    "model_biGRU = load_model('../models/model_biGRU.h5')\n",
    "\n",
    "with open('../models/tokenizer.pkl', 'rb') as f:\n",
    "    tokenizer = pickle.load(f)\n",
    "\n",
    "with open('../models/label_mapping.pkl', 'rb') as f:\n",
    "    label_mapping = pickle.load(f)\n",
    "\n",
    "# Buat reverse mapping (0 → 'negative', dst.)\n",
    "reverse_label_mapping = {v: k for k, v in label_mapping.items()}\n",
    "\n",
    "# Load SVM and TF-IDF vectorizer\n",
    "with open('../models/svm_model.pkl', 'rb') as f:\n",
    "    svm_model = pickle.load(f)\n",
    "\n",
    "with open('../models/tfidf_vectorizer.pkl', 'rb') as f:\n",
    "    tfidf_vectorizer = pickle.load(f)"
   ]
  },
  {
   "cell_type": "markdown",
   "id": "aaad6df7-c97a-4c78-8f1a-2ba3bc83706c",
   "metadata": {},
   "source": [
    "## **Fungsi Prediksi**"
   ]
  },
  {
   "cell_type": "code",
   "execution_count": 21,
   "id": "6318d97c-c505-490d-a251-f262710c9963",
   "metadata": {},
   "outputs": [],
   "source": [
    "# Fungsi prediksi BiLSTM/GRU\n",
    "def predict_sentiment_keras(model, sentence, max_len=100):\n",
    "    sequence = tokenizer.texts_to_sequences([sentence])\n",
    "    padded = pad_sequences(sequence, maxlen=max_len, padding='post')\n",
    "    pred = model.predict(padded)\n",
    "    predicted_class = pred.argmax(axis=-1)[0]\n",
    "    return reverse_label_mapping[predicted_class]\n",
    "\n",
    "# Fungsi prediksi SVM\n",
    "def predict_sentiment_svm(sentence):\n",
    "    transformed = tfidf_vectorizer.transform([sentence])\n",
    "    return svm_model.predict(transformed)[0]"
   ]
  },
  {
   "cell_type": "markdown",
   "id": "76943f43-9415-4300-a478-ce62e22ae1e5",
   "metadata": {},
   "source": [
    "## **Uji prediksi**"
   ]
  },
  {
   "cell_type": "code",
   "execution_count": 22,
   "id": "c0396f73-4aea-4857-ae6a-df78208920f6",
   "metadata": {},
   "outputs": [
    {
     "name": "stdout",
     "output_type": "stream",
     "text": [
      "------------------------------\n",
      "Kalimat: fitur banyak errornya, kamera jelek buram\n",
      "\u001b[1m1/1\u001b[0m \u001b[32m━━━━━━━━━━━━━━━━━━━━\u001b[0m\u001b[37m\u001b[0m \u001b[1m0s\u001b[0m 211ms/step\n",
      "biLSTM: negative \n",
      "\n",
      "Kalimat: Senang sekali pembayaran lebih mudah\n",
      "\u001b[1m1/1\u001b[0m \u001b[32m━━━━━━━━━━━━━━━━━━━━\u001b[0m\u001b[37m\u001b[0m \u001b[1m0s\u001b[0m 28ms/step\n",
      "biLSTM: positive \n",
      "\n",
      "Kalimat: Biasa saja\n",
      "\u001b[1m1/1\u001b[0m \u001b[32m━━━━━━━━━━━━━━━━━━━━\u001b[0m\u001b[37m\u001b[0m \u001b[1m0s\u001b[0m 35ms/step\n",
      "biLSTM: neutral \n",
      "\n",
      "------------------------------\n",
      "Kalimat: fitur banyak errornya, kamera jelek buram\n",
      "\u001b[1m1/1\u001b[0m \u001b[32m━━━━━━━━━━━━━━━━━━━━\u001b[0m\u001b[37m\u001b[0m \u001b[1m0s\u001b[0m 201ms/step\n",
      "biGRU : negative \n",
      "\n",
      "Kalimat: Senang sekali pembayaran lebih mudah\n",
      "\u001b[1m1/1\u001b[0m \u001b[32m━━━━━━━━━━━━━━━━━━━━\u001b[0m\u001b[37m\u001b[0m \u001b[1m0s\u001b[0m 28ms/step\n",
      "biGRU : positive \n",
      "\n",
      "Kalimat: Biasa saja\n",
      "\u001b[1m1/1\u001b[0m \u001b[32m━━━━━━━━━━━━━━━━━━━━\u001b[0m\u001b[37m\u001b[0m \u001b[1m0s\u001b[0m 36ms/step\n",
      "biGRU : neutral \n",
      "\n",
      "------------------------------\n",
      "Kalimat: fitur banyak errornya, kamera jelek buram\n",
      "SVM   : negative \n",
      "\n",
      "Kalimat: Senang sekali pembayaran lebih mudah\n",
      "SVM   : positive \n",
      "\n",
      "Kalimat: Biasa saja\n",
      "SVM   : neutral \n",
      "\n"
     ]
    }
   ],
   "source": [
    "# Kalimat baru yang ingin diuji\n",
    "kalimat_baru = [\n",
    "    \"fitur banyak errornya, kamera jelek buram\",\n",
    "    \"Senang sekali pembayaran lebih mudah\",\n",
    "    \"Biasa saja\"\n",
    "]\n",
    "\n",
    "# Uji prediksi untuk masing-masing kalimat baru\n",
    "print(\"-\" * 30)\n",
    "for kalimat in kalimat_baru:\n",
    "    print(f\"Kalimat: {kalimat}\")\n",
    "    print(\"biLSTM:\", predict_sentiment_keras(model_biLSTM, kalimat), \"\\n\")\n",
    "\n",
    "print(\"-\" * 30)\n",
    "\n",
    "for kalimat in kalimat_baru:\n",
    "    print(f\"Kalimat: {kalimat}\")\n",
    "    print(\"biGRU :\", predict_sentiment_keras(model_biGRU, kalimat), \"\\n\")\n",
    "\n",
    "print(\"-\" * 30)\n",
    "\n",
    "for kalimat in kalimat_baru:\n",
    "    print(f\"Kalimat: {kalimat}\")\n",
    "    print(\"SVM   :\", predict_sentiment_svm(kalimat), \"\\n\")"
   ]
  }
 ],
 "metadata": {
  "kernelspec": {
   "display_name": "Python (sentiment-env)",
   "language": "python",
   "name": "sentiment-env"
  },
  "language_info": {
   "codemirror_mode": {
    "name": "ipython",
    "version": 3
   },
   "file_extension": ".py",
   "mimetype": "text/x-python",
   "name": "python",
   "nbconvert_exporter": "python",
   "pygments_lexer": "ipython3",
   "version": "3.12.3"
  }
 },
 "nbformat": 4,
 "nbformat_minor": 5
}
