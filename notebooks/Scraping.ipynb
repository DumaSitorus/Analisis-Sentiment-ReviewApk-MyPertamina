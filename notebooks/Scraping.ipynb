{
 "cells": [
  {
   "cell_type": "markdown",
   "id": "3b9d2cd1-017a-4291-80ce-89fbc8aef33a",
   "metadata": {},
   "source": [
    "# **Scraping Data Review APK Play Store**\n",
    "Untuk mendapatkan data ulasan pengguna aplikasi **MyPertamina**, dilakukan proses web scraping terhadap halaman Google Play Store menggunakan bantuan pustaka Python yaitu google_play_scraper.\n",
    "\n",
    "Proses Sraping ini meliputi:\n",
    "1. Penentuan target aplikasi : https://play.google.com/store/apps/details?id=com.dafturn.mypertamina\n",
    "2. Instalasi library scraper : google_play_scraper\n",
    "3. Ekstraksi dan pembersihan data. Pembersihan meluputi penghapusan data yang kosong dan duplikasi\n",
    "4. Menyimpan data ke format csv "
   ]
  },
  {
   "cell_type": "markdown",
   "id": "2f9634a8-bd16-45cb-b9f0-60343c99acbf",
   "metadata": {},
   "source": [
    "## **Import Library**"
   ]
  },
  {
   "cell_type": "code",
   "execution_count": 12,
   "id": "ea6c7110-ee31-4acb-9779-872c4966bba4",
   "metadata": {},
   "outputs": [],
   "source": [
    "# Mengimpor pustaka google_play_scraper untuk mengakses ulasan dan informasi aplikasi dari Google Play Store.\n",
    "from google_play_scraper import app, reviews, Sort, reviews_all\n",
    "\n",
    "import csv"
   ]
  },
  {
   "cell_type": "markdown",
   "id": "49f1da6d-843a-4d48-ae96-3a506d3b22a2",
   "metadata": {},
   "source": [
    "## **Scapping Dataset**"
   ]
  },
  {
   "cell_type": "code",
   "execution_count": 13,
   "id": "87a41b41-6bfb-47e8-ae6b-ae6f0c3d398c",
   "metadata": {},
   "outputs": [],
   "source": [
    "# Mengambil semua ulasan dari aplikasi dengan ID 'com.dafturn.mypertamina' di Google Play Store.\n",
    "# Proses scraping mungkin memerlukan beberapa saat tergantung pada jumlah ulasan yang ada.\n",
    "scrapreview = reviews_all(\n",
    "    'com.dafturn.mypertamina',  # ID aplikasi\n",
    "    lang='id',                  # Bahasa ulasan (default: 'en')\n",
    "    country='id',               # Negara (default: 'us')\n",
    "    sort=Sort.MOST_RELEVANT,    # Urutan ulasan (default: Sort.MOST_RELEVANT)\n",
    "    count=10000                 # Jumlah maksimum ulasan yang ingin diambil\n",
    ")"
   ]
  },
  {
   "cell_type": "code",
   "execution_count": 14,
   "id": "318474c2-0891-449a-872c-dca828c0118a",
   "metadata": {},
   "outputs": [
    {
     "data": {
      "text/plain": [
       "(139500, 11)"
      ]
     },
     "execution_count": 14,
     "metadata": {},
     "output_type": "execute_result"
    }
   ],
   "source": [
    "# Membuat DataFrame dari hasil scrapreview\n",
    "app_reviews_df = pd.DataFrame(scrapreview)\n",
    "\n",
    "# Menghitung jumlah baris dan kolom dalam DataFrame\n",
    "jumlah_ulasan, jumlah_kolom = app_reviews_df.shape\n",
    "\n",
    "app_reviews_df.shape"
   ]
  },
  {
   "cell_type": "code",
   "execution_count": 15,
   "id": "8cb076bc-27bc-4466-983a-45932df7da91",
   "metadata": {},
   "outputs": [
    {
     "data": {
      "text/html": [
       "<div>\n",
       "<style scoped>\n",
       "    .dataframe tbody tr th:only-of-type {\n",
       "        vertical-align: middle;\n",
       "    }\n",
       "\n",
       "    .dataframe tbody tr th {\n",
       "        vertical-align: top;\n",
       "    }\n",
       "\n",
       "    .dataframe thead th {\n",
       "        text-align: right;\n",
       "    }\n",
       "</style>\n",
       "<table border=\"1\" class=\"dataframe\">\n",
       "  <thead>\n",
       "    <tr style=\"text-align: right;\">\n",
       "      <th></th>\n",
       "      <th>reviewId</th>\n",
       "      <th>userName</th>\n",
       "      <th>userImage</th>\n",
       "      <th>content</th>\n",
       "      <th>score</th>\n",
       "      <th>thumbsUpCount</th>\n",
       "      <th>reviewCreatedVersion</th>\n",
       "      <th>at</th>\n",
       "      <th>replyContent</th>\n",
       "      <th>repliedAt</th>\n",
       "      <th>appVersion</th>\n",
       "    </tr>\n",
       "  </thead>\n",
       "  <tbody>\n",
       "    <tr>\n",
       "      <th>0</th>\n",
       "      <td>e83d4fab-25df-4364-83bd-5dbcace58852</td>\n",
       "      <td>Pengguna Google</td>\n",
       "      <td>https://play-lh.googleusercontent.com/EGemoI2N...</td>\n",
       "      <td>aplikasi tidak bekerja, daftar akun sulit, bar...</td>\n",
       "      <td>1</td>\n",
       "      <td>41</td>\n",
       "      <td>4.6.9</td>\n",
       "      <td>2025-04-05 17:38:20</td>\n",
       "      <td>Hai, Sobat Kamelia. Mohon maaf atas ketidaknya...</td>\n",
       "      <td>2025-04-06 15:11:54</td>\n",
       "      <td>4.6.9</td>\n",
       "    </tr>\n",
       "    <tr>\n",
       "      <th>1</th>\n",
       "      <td>3908997b-b657-4989-a787-b107b9beea21</td>\n",
       "      <td>Pengguna Google</td>\n",
       "      <td>https://play-lh.googleusercontent.com/EGemoI2N...</td>\n",
       "      <td>Aplikasi sangat buruk, bagian IT tidak bisa Me...</td>\n",
       "      <td>1</td>\n",
       "      <td>57</td>\n",
       "      <td>4.6.8</td>\n",
       "      <td>2025-03-22 17:54:03</td>\n",
       "      <td>None</td>\n",
       "      <td>NaT</td>\n",
       "      <td>4.6.8</td>\n",
       "    </tr>\n",
       "    <tr>\n",
       "      <th>2</th>\n",
       "      <td>70afd7a2-174e-428d-9d9f-edd5cd58a711</td>\n",
       "      <td>Pengguna Google</td>\n",
       "      <td>https://play-lh.googleusercontent.com/EGemoI2N...</td>\n",
       "      <td>tolong itu sistem error waktu mau ngirim dokum...</td>\n",
       "      <td>5</td>\n",
       "      <td>13</td>\n",
       "      <td>4.6.9</td>\n",
       "      <td>2025-04-08 17:49:39</td>\n",
       "      <td>None</td>\n",
       "      <td>NaT</td>\n",
       "      <td>4.6.9</td>\n",
       "    </tr>\n",
       "    <tr>\n",
       "      <th>3</th>\n",
       "      <td>0be2f44f-f912-4e21-9716-4ddf6fc73cd3</td>\n",
       "      <td>Pengguna Google</td>\n",
       "      <td>https://play-lh.googleusercontent.com/EGemoI2N...</td>\n",
       "      <td>aplikasi mypertamina ini gk berfungsi dgn baik...</td>\n",
       "      <td>1</td>\n",
       "      <td>19</td>\n",
       "      <td>4.6.9</td>\n",
       "      <td>2025-03-31 13:51:31</td>\n",
       "      <td>Hai, Sobat Han. Mimin sarankan silakan coba cl...</td>\n",
       "      <td>2025-04-02 11:36:25</td>\n",
       "      <td>4.6.9</td>\n",
       "    </tr>\n",
       "    <tr>\n",
       "      <th>4</th>\n",
       "      <td>b48a051a-ca94-424d-bbac-ac59211ccabd</td>\n",
       "      <td>Pengguna Google</td>\n",
       "      <td>https://play-lh.googleusercontent.com/EGemoI2N...</td>\n",
       "      <td>data kendaraan saya jumlah rodanya 2.. padahal...</td>\n",
       "      <td>1</td>\n",
       "      <td>10</td>\n",
       "      <td>4.6.9</td>\n",
       "      <td>2025-03-29 22:44:40</td>\n",
       "      <td>None</td>\n",
       "      <td>NaT</td>\n",
       "      <td>4.6.9</td>\n",
       "    </tr>\n",
       "  </tbody>\n",
       "</table>\n",
       "</div>"
      ],
      "text/plain": [
       "                               reviewId         userName  \\\n",
       "0  e83d4fab-25df-4364-83bd-5dbcace58852  Pengguna Google   \n",
       "1  3908997b-b657-4989-a787-b107b9beea21  Pengguna Google   \n",
       "2  70afd7a2-174e-428d-9d9f-edd5cd58a711  Pengguna Google   \n",
       "3  0be2f44f-f912-4e21-9716-4ddf6fc73cd3  Pengguna Google   \n",
       "4  b48a051a-ca94-424d-bbac-ac59211ccabd  Pengguna Google   \n",
       "\n",
       "                                           userImage  \\\n",
       "0  https://play-lh.googleusercontent.com/EGemoI2N...   \n",
       "1  https://play-lh.googleusercontent.com/EGemoI2N...   \n",
       "2  https://play-lh.googleusercontent.com/EGemoI2N...   \n",
       "3  https://play-lh.googleusercontent.com/EGemoI2N...   \n",
       "4  https://play-lh.googleusercontent.com/EGemoI2N...   \n",
       "\n",
       "                                             content  score  thumbsUpCount  \\\n",
       "0  aplikasi tidak bekerja, daftar akun sulit, bar...      1             41   \n",
       "1  Aplikasi sangat buruk, bagian IT tidak bisa Me...      1             57   \n",
       "2  tolong itu sistem error waktu mau ngirim dokum...      5             13   \n",
       "3  aplikasi mypertamina ini gk berfungsi dgn baik...      1             19   \n",
       "4  data kendaraan saya jumlah rodanya 2.. padahal...      1             10   \n",
       "\n",
       "  reviewCreatedVersion                  at  \\\n",
       "0                4.6.9 2025-04-05 17:38:20   \n",
       "1                4.6.8 2025-03-22 17:54:03   \n",
       "2                4.6.9 2025-04-08 17:49:39   \n",
       "3                4.6.9 2025-03-31 13:51:31   \n",
       "4                4.6.9 2025-03-29 22:44:40   \n",
       "\n",
       "                                        replyContent           repliedAt  \\\n",
       "0  Hai, Sobat Kamelia. Mohon maaf atas ketidaknya... 2025-04-06 15:11:54   \n",
       "1                                               None                 NaT   \n",
       "2                                               None                 NaT   \n",
       "3  Hai, Sobat Han. Mimin sarankan silakan coba cl... 2025-04-02 11:36:25   \n",
       "4                                               None                 NaT   \n",
       "\n",
       "  appVersion  \n",
       "0      4.6.9  \n",
       "1      4.6.8  \n",
       "2      4.6.9  \n",
       "3      4.6.9  \n",
       "4      4.6.9  "
      ]
     },
     "execution_count": 15,
     "metadata": {},
     "output_type": "execute_result"
    }
   ],
   "source": [
    "# Menampilkan lima baris pertama dari DataFrame app_reviews_df\n",
    "app_reviews_df.head()"
   ]
  },
  {
   "cell_type": "code",
   "execution_count": 16,
   "id": "d46ba0bb-9968-48ee-96b9-d55d286b3583",
   "metadata": {},
   "outputs": [
    {
     "name": "stdout",
     "output_type": "stream",
     "text": [
      "<class 'pandas.core.frame.DataFrame'>\n",
      "RangeIndex: 139500 entries, 0 to 139499\n",
      "Data columns (total 11 columns):\n",
      " #   Column                Non-Null Count   Dtype         \n",
      "---  ------                --------------   -----         \n",
      " 0   reviewId              139500 non-null  object        \n",
      " 1   userName              139500 non-null  object        \n",
      " 2   userImage             139500 non-null  object        \n",
      " 3   content               139500 non-null  object        \n",
      " 4   score                 139500 non-null  int64         \n",
      " 5   thumbsUpCount         139500 non-null  int64         \n",
      " 6   reviewCreatedVersion  121752 non-null  object        \n",
      " 7   at                    139500 non-null  datetime64[ns]\n",
      " 8   replyContent          18204 non-null   object        \n",
      " 9   repliedAt             18204 non-null   datetime64[ns]\n",
      " 10  appVersion            121752 non-null  object        \n",
      "dtypes: datetime64[ns](2), int64(2), object(7)\n",
      "memory usage: 11.7+ MB\n"
     ]
    }
   ],
   "source": [
    "# Menampilkan informasi tentang DataFrame app_reviews_df\n",
    "app_reviews_df.info()"
   ]
  },
  {
   "cell_type": "code",
   "execution_count": 17,
   "id": "636a8b31-76c3-4a7e-8640-b086f4d4da5e",
   "metadata": {},
   "outputs": [],
   "source": [
    "# Membuat DataFrame baru (clean_df) dengan menghapus baris yang memiliki nilai yang hilang (NaN) dari app_reviews_df\n",
    "clean_df = app_reviews_df.dropna()"
   ]
  },
  {
   "cell_type": "code",
   "execution_count": 18,
   "id": "26a83418-7330-48fc-89e4-c346838f1ebb",
   "metadata": {},
   "outputs": [
    {
     "name": "stdout",
     "output_type": "stream",
     "text": [
      "<class 'pandas.core.frame.DataFrame'>\n",
      "Index: 16667 entries, 0 to 139274\n",
      "Data columns (total 11 columns):\n",
      " #   Column                Non-Null Count  Dtype         \n",
      "---  ------                --------------  -----         \n",
      " 0   reviewId              16667 non-null  object        \n",
      " 1   userName              16667 non-null  object        \n",
      " 2   userImage             16667 non-null  object        \n",
      " 3   content               16667 non-null  object        \n",
      " 4   score                 16667 non-null  int64         \n",
      " 5   thumbsUpCount         16667 non-null  int64         \n",
      " 6   reviewCreatedVersion  16667 non-null  object        \n",
      " 7   at                    16667 non-null  datetime64[ns]\n",
      " 8   replyContent          16667 non-null  object        \n",
      " 9   repliedAt             16667 non-null  datetime64[ns]\n",
      " 10  appVersion            16667 non-null  object        \n",
      "dtypes: datetime64[ns](2), int64(2), object(7)\n",
      "memory usage: 1.5+ MB\n"
     ]
    }
   ],
   "source": [
    "# Menampilkan informasi tentang DataFrame clean_df setelah membersihkan nilai yang hilang (NaN)\n",
    "clean_df.info()"
   ]
  },
  {
   "cell_type": "code",
   "execution_count": 19,
   "id": "f111a77a-b826-42bc-94f8-80c317c6e674",
   "metadata": {},
   "outputs": [
    {
     "data": {
      "text/plain": [
       "(16667, 11)"
      ]
     },
     "execution_count": 19,
     "metadata": {},
     "output_type": "execute_result"
    }
   ],
   "source": [
    "# Menghapus baris duplikat dari DataFrame clean_df\n",
    "clean_df = clean_df.drop_duplicates()\n",
    "\n",
    "# Menghitung jumlah baris dan kolom dalam DataFrame clean_df setelah menghapus duplikat\n",
    "jumlah_ulasan_setelah_hapus_duplikat, jumlah_kolom_setelah_hapus_duplikat = clean_df.shape\n",
    "\n",
    "clean_df.shape"
   ]
  },
  {
   "cell_type": "code",
   "execution_count": 20,
   "id": "9e1065f6-000b-4471-be0b-00902c74494d",
   "metadata": {},
   "outputs": [],
   "source": [
    "clean_df.to_csv('ulasan_aplikasi_clean.csv', index=False, encoding='utf-8')"
   ]
  }
 ],
 "metadata": {
  "kernelspec": {
   "display_name": "Python (sentiment-env)",
   "language": "python",
   "name": "sentiment-env"
  },
  "language_info": {
   "codemirror_mode": {
    "name": "ipython",
    "version": 3
   },
   "file_extension": ".py",
   "mimetype": "text/x-python",
   "name": "python",
   "nbconvert_exporter": "python",
   "pygments_lexer": "ipython3",
   "version": "3.12.3"
  }
 },
 "nbformat": 4,
 "nbformat_minor": 5
}
